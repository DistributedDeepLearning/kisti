{
 "cells": [
  {
   "cell_type": "code",
   "execution_count": null,
   "metadata": {},
   "outputs": [],
   "source": [
    "# https://youtu.be/TibQO_xv1zc"
   ]
  },
  {
   "cell_type": "markdown",
   "metadata": {},
   "source": [
    "#### Model Parallel"
   ]
  },
  {
   "cell_type": "code",
   "execution_count": 1,
   "metadata": {},
   "outputs": [],
   "source": [
    "import torch\n",
    "import torch.nn as nn\n",
    "import torch.optim as optim"
   ]
  },
  {
   "cell_type": "code",
   "execution_count": null,
   "metadata": {},
   "outputs": [],
   "source": [
    "# pseudocode\n",
    "class ModelParallel(nn.Module):\n",
    "    def __init__(self, ...):\n",
    "        super(ModelParallel, self).__init__()\n",
    "        self.part_1 = nn.Sequential(\n",
    "            ...\n",
    "        )\n",
    "        self.part_2 = nn.Sequential(\n",
    "            ...\n",
    "        )\n",
    "        # put each part on a different device\n",
    "        \n",
    "    def forward(self, x):\n",
    "        x = x.to(torch.device('cuda:0'))\n",
    "        x1 = self.part_1(x)\n",
    "        # move to second device\n",
    "        x1 = x1.to(torch.device('cuda:1'))\n",
    "        y = self.part_2(x1)\n",
    "        return y"
   ]
  },
  {
   "cell_type": "code",
   "execution_count": null,
   "metadata": {},
   "outputs": [],
   "source": [
    "# regular training\n",
    "for x, y_gt in data:\n",
    "    optimizer.zero_grad()\n",
    "    y_pred = model(x)\n",
    "    loss = criterion(y, y_gt)\n",
    "    loss.backward()\n",
    "    optimizer.step()"
   ]
  },
  {
   "cell_type": "code",
   "execution_count": null,
   "metadata": {},
   "outputs": [],
   "source": [
    "# Gradient accumulation\n",
    "for x, y_gt in data:\n",
    "    optimizer.zero_grad()\n",
    "    for sub_x, sub_y_gt in split(x, y_gt):\n",
    "        sub_y_pred = model(sub_x)\n",
    "        loss = criterion(sub_y_pred, sub_y_gt)\n",
    "        loss.backward()\n",
    "    optimzier.step()"
   ]
  },
  {
   "cell_type": "markdown",
   "metadata": {},
   "source": [
    "#### Data Parallel"
   ]
  },
  {
   "cell_type": "code",
   "execution_count": null,
   "metadata": {},
   "outputs": [],
   "source": [
    "# nn.DataParallel\n",
    "\n",
    "model = MyModel()\n",
    "# make it parallel\n",
    "model = nn.DataParallel(model)\n",
    "\n",
    "\"\"\"\n",
    "1. Replicates model to all GPUs\n",
    "2. Splits the batch to the GPUs\n",
    "3. Sync updates\n",
    "\"\"\""
   ]
  },
  {
   "cell_type": "code",
   "execution_count": null,
   "metadata": {},
   "outputs": [],
   "source": [
    "# DistirbutedDataParallel\n",
    "\n",
    "def main():\n",
    "    ...\n",
    "    torch.multiprocessing.spawn(trian,\n",
    "                                nproc=world_size,\n",
    "                                args=args)\n",
    "\n",
    "def train(rank, args):\n",
    "    # init the process in context\n",
    "    torch.distributed.init_process_group(backend='nccl', init_method='tcp://127.0.0.1:54263', world_size, rank)\n",
    "    ...\n",
    "    # wrap the model\n",
    "    model = nn.parallel.DistributedDataParallel(model, device_ids=[rank])\n",
    "    \n",
    "    # use \"distributed aware\" sampler\n",
    "    sampler = torch.utils.data.distributed.DistributedSampler(\n",
    "        train_dataset,\n",
    "        num_replica=world_size,\n",
    "        rank=rank\n",
    "    )\n",
    "    \n",
    "    loader = DataLoader(train_dataset, batch_size,\n",
    "                        shuffle=False, sampler=train_sampler)\n",
    "\n",
    "\n"
   ]
  },
  {
   "cell_type": "code",
   "execution_count": null,
   "metadata": {},
   "outputs": [],
   "source": []
  }
 ],
 "metadata": {
  "kernelspec": {
   "display_name": "tf2.8",
   "language": "python",
   "name": "tf2.8"
  },
  "language_info": {
   "codemirror_mode": {
    "name": "ipython",
    "version": 3
   },
   "file_extension": ".py",
   "mimetype": "text/x-python",
   "name": "python",
   "nbconvert_exporter": "python",
   "pygments_lexer": "ipython3",
   "version": "3.9.12"
  },
  "orig_nbformat": 4
 },
 "nbformat": 4,
 "nbformat_minor": 2
}
